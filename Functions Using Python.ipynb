{
 "cells": [
  {
   "cell_type": "markdown",
   "metadata": {},
   "source": [
    "# Functions are collections of codes"
   ]
  },
  {
   "cell_type": "code",
   "execution_count": 3,
   "metadata": {},
   "outputs": [
    {
     "name": "stdout",
     "output_type": "stream",
     "text": [
      "This is outside function\n"
     ]
    }
   ],
   "source": [
    "def test1():\n",
    "    print(\"HAHAHAHA\")\n",
    "print(\"This is outside function\")"
   ]
  },
  {
   "cell_type": "code",
   "execution_count": 4,
   "metadata": {},
   "outputs": [
    {
     "name": "stdout",
     "output_type": "stream",
     "text": [
      "HAHAHAHA\n"
     ]
    }
   ],
   "source": [
    "test1()"
   ]
  },
  {
   "cell_type": "code",
   "execution_count": 20,
   "metadata": {},
   "outputs": [
    {
     "name": "stdout",
     "output_type": "stream",
     "text": [
      "enter the value: 44\n"
     ]
    },
    {
     "data": {
      "text/plain": [
       "88"
      ]
     },
     "execution_count": 20,
     "metadata": {},
     "output_type": "execute_result"
    }
   ],
   "source": [
    "def test2(x):\n",
    "    return 2*x\n",
    "\n",
    "x=int(input(\"enter the value: \"))\n",
    "a=test2(x)\n",
    "a\n",
    "    "
   ]
  },
  {
   "cell_type": "code",
   "execution_count": 26,
   "metadata": {},
   "outputs": [
    {
     "name": "stdout",
     "output_type": "stream",
     "text": [
      "Enter first number: 10\n",
      "Enter Second number: 20\n"
     ]
    },
    {
     "data": {
      "text/plain": [
       "30"
      ]
     },
     "execution_count": 26,
     "metadata": {},
     "output_type": "execute_result"
    }
   ],
   "source": [
    "def test3(x, y):\n",
    "    return x+y\n",
    "\n",
    "x=int(input(\"Enter first number: \"))\n",
    "y=int(input(\"Enter Second number: \"))\n",
    "\n",
    "a=test3(x,y)\n",
    "a"
   ]
  },
  {
   "cell_type": "code",
   "execution_count": 35,
   "metadata": {},
   "outputs": [
    {
     "name": "stdout",
     "output_type": "stream",
     "text": [
      "Enter your name: Gunin\n",
      "Enter your height: 1.9\n",
      "Enter your weight in kgs: 110\n",
      "bmi:\n",
      "30.470914127423825\n",
      "You are overweight,do some workout\n"
     ]
    }
   ],
   "source": [
    "def bmi_calculator(name,height,weight):\n",
    "    bmi=weight/height**2\n",
    "    print(\"bmi:\")\n",
    "    print(bmi)\n",
    "    if bmi<25:\n",
    "        print(\"You are not overweight\")\n",
    "    else:\n",
    "        print(\"You are overweight,do some workout\")\n",
    "\n",
    "name1=input(\"Enter your name: \")\n",
    "height1=float(input(\"Enter your height: \"))\n",
    "weight1=float(input(\"Enter your weight in kgs: \"))\n",
    "\n",
    "result=bmi_calculator(name1,height1,weight1)"
   ]
  },
  {
   "cell_type": "code",
   "execution_count": null,
   "metadata": {},
   "outputs": [],
   "source": []
  }
 ],
 "metadata": {
  "kernelspec": {
   "display_name": "Python 3",
   "language": "python",
   "name": "python3"
  },
  "language_info": {
   "codemirror_mode": {
    "name": "ipython",
    "version": 3
   },
   "file_extension": ".py",
   "mimetype": "text/x-python",
   "name": "python",
   "nbconvert_exporter": "python",
   "pygments_lexer": "ipython3",
   "version": "3.7.9"
  }
 },
 "nbformat": 4,
 "nbformat_minor": 4
}
